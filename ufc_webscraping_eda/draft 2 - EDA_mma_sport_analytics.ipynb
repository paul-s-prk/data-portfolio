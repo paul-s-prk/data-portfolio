{
 "cells": [
  {
   "cell_type": "markdown",
   "metadata": {},
   "source": [
    "# Introduction\n",
    "\n",
    "This notebook utilises MMA sports data from a Kaggle dataset. The aim of this notebook was too practice my data cleaning and preparation skills whilst also answering some rudimentry questions I personally had about the UFC and MMA in general. "
   ]
  },
  {
   "cell_type": "markdown",
   "metadata": {},
   "source": [
    "Set up"
   ]
  },
  {
   "cell_type": "code",
   "execution_count": null,
   "metadata": {},
   "outputs": [],
   "source": [
    "import pandas as pd\n",
    "import numpy as np\n",
    "import matplotlib.pyplot as plt\n",
    "import seaborn as sns\n",
    "pd.options.display.max_columns = 200"
   ]
  },
  {
   "cell_type": "code",
   "execution_count": null,
   "metadata": {},
   "outputs": [],
   "source": [
    "# Import datasets\n",
    "events = pd.read_csv('data/ufc_event_data.csv')\n",
    "fights = pd.read_csv('data/ufc_fight_data.csv')\n",
    "fight_stats = pd.read_csv('data/ufc_fight_stat_data.csv')\n",
    "fighters = pd.read_csv('data/ufc_fighter_data.csv')"
   ]
  },
  {
   "cell_type": "markdown",
   "metadata": {},
   "source": [
    "# Data Cleaning and Preparation\n",
    "\n",
    "The way that I approached preparing the data was to first, get a quick look through all tables to get an idea of relevant columns, data types to set, missing values. During this process I'm making a mental note of some joins/merges I will likely make.  "
   ]
  },
  {
   "cell_type": "code",
   "execution_count": null,
   "metadata": {},
   "outputs": [],
   "source": []
  },
  {
   "cell_type": "markdown",
   "metadata": {},
   "source": [
    "# Questions"
   ]
  }
 ],
 "metadata": {
  "kernelspec": {
   "display_name": ".venv",
   "language": "python",
   "name": "python3"
  },
  "language_info": {
   "name": "python",
   "version": "3.11.5"
  }
 },
 "nbformat": 4,
 "nbformat_minor": 2
}
