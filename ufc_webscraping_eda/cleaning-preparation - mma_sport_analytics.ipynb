{
 "cells": [
  {
   "cell_type": "markdown",
   "metadata": {},
   "source": [
    "# Introduction\n",
    "\n",
    "This notebook utilises MMA sports data from a Kaggle dataset. The aim of this notebook was too practice my data cleaning and preparation skills whilst also answering some rudimentry questions I personally had about the UFC and MMA in general. "
   ]
  },
  {
   "cell_type": "markdown",
   "metadata": {},
   "source": [
    "### Import packages"
   ]
  },
  {
   "cell_type": "code",
   "execution_count": 39,
   "metadata": {},
   "outputs": [],
   "source": [
    "import pandas as pd\n",
    "import numpy as np\n",
    "import matplotlib.pyplot as plt\n",
    "import seaborn as sns\n",
    "pd.options.display.max_columns = 200"
   ]
  },
  {
   "cell_type": "markdown",
   "metadata": {},
   "source": [
    "### Load data"
   ]
  },
  {
   "cell_type": "code",
   "execution_count": 40,
   "metadata": {},
   "outputs": [],
   "source": [
    "# Import datasets\n",
    "events = pd.read_csv('data/ufc_event_data.csv')\n",
    "fights = pd.read_csv('data/ufc_fight_data.csv')\n",
    "fight_stats = pd.read_csv('data/ufc_fight_stat_data.csv')\n",
    "fighters = pd.read_csv('data/ufc_fighter_data.csv')"
   ]
  },
  {
   "cell_type": "markdown",
   "metadata": {},
   "source": [
    "# Data Cleaning and Preparation\n",
    "\n",
    "The way that I approached preparing the data was to first, get a quick look through all tables to get an idea of relevant columns, data types to set, missing values. During this process I'm making a mental note of some joins/merges I will likely make.  "
   ]
  },
  {
   "cell_type": "markdown",
   "metadata": {},
   "source": [
    "### Table 1: `events`\n",
    "- Convert column to datetime\n",
    "- Drop unnecessary columns"
   ]
  },
  {
   "cell_type": "code",
   "execution_count": 41,
   "metadata": {},
   "outputs": [
    {
     "name": "stdout",
     "output_type": "stream",
     "text": [
      "(665, 7)\n",
      "<class 'pandas.core.frame.DataFrame'>\n",
      "RangeIndex: 665 entries, 0 to 664\n",
      "Data columns (total 7 columns):\n",
      " #   Column         Non-Null Count  Dtype \n",
      "---  ------         --------------  ----- \n",
      " 0   event_id       665 non-null    int64 \n",
      " 1   event_name     665 non-null    object\n",
      " 2   event_date     665 non-null    object\n",
      " 3   event_city     665 non-null    object\n",
      " 4   event_state    616 non-null    object\n",
      " 5   event_country  665 non-null    object\n",
      " 6   event_url      665 non-null    object\n",
      "dtypes: int64(1), object(6)\n",
      "memory usage: 36.5+ KB\n",
      "None\n"
     ]
    },
    {
     "data": {
      "text/html": [
       "<div>\n",
       "<style scoped>\n",
       "    .dataframe tbody tr th:only-of-type {\n",
       "        vertical-align: middle;\n",
       "    }\n",
       "\n",
       "    .dataframe tbody tr th {\n",
       "        vertical-align: top;\n",
       "    }\n",
       "\n",
       "    .dataframe thead th {\n",
       "        text-align: right;\n",
       "    }\n",
       "</style>\n",
       "<table border=\"1\" class=\"dataframe\">\n",
       "  <thead>\n",
       "    <tr style=\"text-align: right;\">\n",
       "      <th></th>\n",
       "      <th>event_id</th>\n",
       "      <th>event_name</th>\n",
       "      <th>event_date</th>\n",
       "      <th>event_city</th>\n",
       "      <th>event_state</th>\n",
       "      <th>event_country</th>\n",
       "      <th>event_url</th>\n",
       "    </tr>\n",
       "  </thead>\n",
       "  <tbody>\n",
       "    <tr>\n",
       "      <th>0</th>\n",
       "      <td>665</td>\n",
       "      <td>UFC Fight Night: Dawson vs. Green</td>\n",
       "      <td>2023-10-07</td>\n",
       "      <td>Las Vegas</td>\n",
       "      <td>Nevada</td>\n",
       "      <td>USA</td>\n",
       "      <td>http://ufcstats.com/event-details/c8a49ff2acb6...</td>\n",
       "    </tr>\n",
       "    <tr>\n",
       "      <th>1</th>\n",
       "      <td>664</td>\n",
       "      <td>UFC Fight Night: Fiziev vs. Gamrot</td>\n",
       "      <td>2023-09-23</td>\n",
       "      <td>Las Vegas</td>\n",
       "      <td>Nevada</td>\n",
       "      <td>USA</td>\n",
       "      <td>http://ufcstats.com/event-details/c945adc22c2b...</td>\n",
       "    </tr>\n",
       "    <tr>\n",
       "      <th>2</th>\n",
       "      <td>663</td>\n",
       "      <td>UFC Fight Night: Grasso vs. Shevchenko 2</td>\n",
       "      <td>2023-09-16</td>\n",
       "      <td>Las Vegas</td>\n",
       "      <td>Nevada</td>\n",
       "      <td>USA</td>\n",
       "      <td>http://ufcstats.com/event-details/8fa2b0657236...</td>\n",
       "    </tr>\n",
       "    <tr>\n",
       "      <th>3</th>\n",
       "      <td>662</td>\n",
       "      <td>UFC 293: Adesanya vs. Strickland</td>\n",
       "      <td>2023-09-09</td>\n",
       "      <td>Sydney</td>\n",
       "      <td>New South Wales</td>\n",
       "      <td>Australia</td>\n",
       "      <td>http://ufcstats.com/event-details/ece280745f87...</td>\n",
       "    </tr>\n",
       "    <tr>\n",
       "      <th>4</th>\n",
       "      <td>661</td>\n",
       "      <td>UFC Fight Night: Gane vs. Spivac</td>\n",
       "      <td>2023-09-02</td>\n",
       "      <td>Paris</td>\n",
       "      <td>Ile-de-France</td>\n",
       "      <td>France</td>\n",
       "      <td>http://ufcstats.com/event-details/ef61d9f5176b...</td>\n",
       "    </tr>\n",
       "  </tbody>\n",
       "</table>\n",
       "</div>"
      ],
      "text/plain": [
       "   event_id                                event_name  event_date event_city  \\\n",
       "0       665         UFC Fight Night: Dawson vs. Green  2023-10-07  Las Vegas   \n",
       "1       664        UFC Fight Night: Fiziev vs. Gamrot  2023-09-23  Las Vegas   \n",
       "2       663  UFC Fight Night: Grasso vs. Shevchenko 2  2023-09-16  Las Vegas   \n",
       "3       662          UFC 293: Adesanya vs. Strickland  2023-09-09     Sydney   \n",
       "4       661          UFC Fight Night: Gane vs. Spivac  2023-09-02      Paris   \n",
       "\n",
       "       event_state event_country  \\\n",
       "0           Nevada           USA   \n",
       "1           Nevada           USA   \n",
       "2           Nevada           USA   \n",
       "3  New South Wales     Australia   \n",
       "4    Ile-de-France        France   \n",
       "\n",
       "                                           event_url  \n",
       "0  http://ufcstats.com/event-details/c8a49ff2acb6...  \n",
       "1  http://ufcstats.com/event-details/c945adc22c2b...  \n",
       "2  http://ufcstats.com/event-details/8fa2b0657236...  \n",
       "3  http://ufcstats.com/event-details/ece280745f87...  \n",
       "4  http://ufcstats.com/event-details/ef61d9f5176b...  "
      ]
     },
     "metadata": {},
     "output_type": "display_data"
    }
   ],
   "source": [
    "print(events.shape)\n",
    "print(events.info())\n",
    "display(events.head())"
   ]
  },
  {
   "cell_type": "code",
   "execution_count": 42,
   "metadata": {},
   "outputs": [
    {
     "name": "stdout",
     "output_type": "stream",
     "text": [
      "(665, 2)\n",
      "<class 'pandas.core.frame.DataFrame'>\n",
      "RangeIndex: 665 entries, 0 to 664\n",
      "Data columns (total 2 columns):\n",
      " #   Column      Non-Null Count  Dtype         \n",
      "---  ------      --------------  -----         \n",
      " 0   event_id    665 non-null    int64         \n",
      " 1   event_date  665 non-null    datetime64[ns]\n",
      "dtypes: datetime64[ns](1), int64(1)\n",
      "memory usage: 10.5 KB\n",
      "None\n"
     ]
    }
   ],
   "source": [
    "# Convert event_date to datetime and extract year\n",
    "events['event_date'] = pd.to_datetime(events['event_date'])\n",
    "\n",
    "# Keep only needed columns\n",
    "events = events[['event_id', # 'event_name', \n",
    "                 'event_date', # 'event_city', 'event_state',\n",
    "                 # 'event_country', 'event_url'\n",
    "]].copy()\n",
    "\n",
    "print(events.shape)\n",
    "print(events.info())"
   ]
  },
  {
   "cell_type": "markdown",
   "metadata": {},
   "source": [
    "Export dataframe as feather (to preserve datatypes)"
   ]
  },
  {
   "cell_type": "code",
   "execution_count": 43,
   "metadata": {},
   "outputs": [],
   "source": [
    "events.to_feather('data/events_clean.feather')"
   ]
  },
  {
   "cell_type": "markdown",
   "metadata": {},
   "source": [
    "### Table 2: `fights`\n",
    "- Drop unneccesary columns\n",
    "- Deal with missing values\n",
    "- Create column for total fight duration"
   ]
  },
  {
   "cell_type": "code",
   "execution_count": 44,
   "metadata": {},
   "outputs": [
    {
     "name": "stdout",
     "output_type": "stream",
     "text": [
      "(7218, 15)\n",
      "<class 'pandas.core.frame.DataFrame'>\n",
      "RangeIndex: 7218 entries, 0 to 7217\n",
      "Data columns (total 15 columns):\n",
      " #   Column          Non-Null Count  Dtype  \n",
      "---  ------          --------------  -----  \n",
      " 0   fight_id        7218 non-null   int64  \n",
      " 1   event_id        7218 non-null   int64  \n",
      " 2   referee         7186 non-null   object \n",
      " 3   f_1             7199 non-null   float64\n",
      " 4   f_2             7205 non-null   float64\n",
      " 5   winner          7203 non-null   float64\n",
      " 6   num_rounds      7218 non-null   object \n",
      " 7   title_fight     7218 non-null   object \n",
      " 8   weight_class    7205 non-null   object \n",
      " 9   gender          7218 non-null   object \n",
      " 10  result          7218 non-null   object \n",
      " 11  result_details  7201 non-null   object \n",
      " 12  finish_round    7218 non-null   int64  \n",
      " 13  finish_time     7218 non-null   object \n",
      " 14  fight_url       7218 non-null   object \n",
      "dtypes: float64(3), int64(3), object(9)\n",
      "memory usage: 846.0+ KB\n",
      "None\n"
     ]
    },
    {
     "data": {
      "text/html": [
       "<div>\n",
       "<style scoped>\n",
       "    .dataframe tbody tr th:only-of-type {\n",
       "        vertical-align: middle;\n",
       "    }\n",
       "\n",
       "    .dataframe tbody tr th {\n",
       "        vertical-align: top;\n",
       "    }\n",
       "\n",
       "    .dataframe thead th {\n",
       "        text-align: right;\n",
       "    }\n",
       "</style>\n",
       "<table border=\"1\" class=\"dataframe\">\n",
       "  <thead>\n",
       "    <tr style=\"text-align: right;\">\n",
       "      <th></th>\n",
       "      <th>fight_id</th>\n",
       "      <th>event_id</th>\n",
       "      <th>referee</th>\n",
       "      <th>f_1</th>\n",
       "      <th>f_2</th>\n",
       "      <th>winner</th>\n",
       "      <th>num_rounds</th>\n",
       "      <th>title_fight</th>\n",
       "      <th>weight_class</th>\n",
       "      <th>gender</th>\n",
       "      <th>result</th>\n",
       "      <th>result_details</th>\n",
       "      <th>finish_round</th>\n",
       "      <th>finish_time</th>\n",
       "      <th>fight_url</th>\n",
       "    </tr>\n",
       "  </thead>\n",
       "  <tbody>\n",
       "    <tr>\n",
       "      <th>0</th>\n",
       "      <td>7218</td>\n",
       "      <td>664</td>\n",
       "      <td>Herb Dean</td>\n",
       "      <td>2976.0</td>\n",
       "      <td>2884.0</td>\n",
       "      <td>2884.0</td>\n",
       "      <td>5</td>\n",
       "      <td>F</td>\n",
       "      <td>Lightweight</td>\n",
       "      <td>M</td>\n",
       "      <td>KO/TKO</td>\n",
       "      <td>to    \\n      Leg Injury</td>\n",
       "      <td>2</td>\n",
       "      <td>2:03</td>\n",
       "      <td>http://ufcstats.com/fight-details/23a604f46028...</td>\n",
       "    </tr>\n",
       "    <tr>\n",
       "      <th>1</th>\n",
       "      <td>7217</td>\n",
       "      <td>664</td>\n",
       "      <td>Mark Smith</td>\n",
       "      <td>1662.0</td>\n",
       "      <td>2464.0</td>\n",
       "      <td>1662.0</td>\n",
       "      <td>3</td>\n",
       "      <td>F</td>\n",
       "      <td>Featherweight</td>\n",
       "      <td>M</td>\n",
       "      <td>Decision</td>\n",
       "      <td>Unanimous</td>\n",
       "      <td>3</td>\n",
       "      <td>5:00</td>\n",
       "      <td>http://ufcstats.com/fight-details/da1b37edb8cc...</td>\n",
       "    </tr>\n",
       "    <tr>\n",
       "      <th>2</th>\n",
       "      <td>7216</td>\n",
       "      <td>664</td>\n",
       "      <td>Kerry Hatley</td>\n",
       "      <td>981.0</td>\n",
       "      <td>179.0</td>\n",
       "      <td>981.0</td>\n",
       "      <td>3</td>\n",
       "      <td>F</td>\n",
       "      <td>Women's Strawweight</td>\n",
       "      <td>F</td>\n",
       "      <td>KO/TKO</td>\n",
       "      <td>Punches to Head From Mount</td>\n",
       "      <td>2</td>\n",
       "      <td>2:42</td>\n",
       "      <td>http://ufcstats.com/fight-details/d8335b728604...</td>\n",
       "    </tr>\n",
       "    <tr>\n",
       "      <th>3</th>\n",
       "      <td>7215</td>\n",
       "      <td>664</td>\n",
       "      <td>Dan Miragliotta</td>\n",
       "      <td>3831.0</td>\n",
       "      <td>2974.0</td>\n",
       "      <td>3831.0</td>\n",
       "      <td>3</td>\n",
       "      <td>F</td>\n",
       "      <td>Welterweight</td>\n",
       "      <td>M</td>\n",
       "      <td>Submission</td>\n",
       "      <td>Rear Naked Choke</td>\n",
       "      <td>2</td>\n",
       "      <td>4:32</td>\n",
       "      <td>http://ufcstats.com/fight-details/bf647be41de3...</td>\n",
       "    </tr>\n",
       "    <tr>\n",
       "      <th>4</th>\n",
       "      <td>7214</td>\n",
       "      <td>664</td>\n",
       "      <td>Herb Dean</td>\n",
       "      <td>1108.0</td>\n",
       "      <td>2320.0</td>\n",
       "      <td>2320.0</td>\n",
       "      <td>3</td>\n",
       "      <td>F</td>\n",
       "      <td>Featherweight</td>\n",
       "      <td>M</td>\n",
       "      <td>Submission</td>\n",
       "      <td>Guillotine Choke From Bottom Guard</td>\n",
       "      <td>1</td>\n",
       "      <td>3:12</td>\n",
       "      <td>http://ufcstats.com/fight-details/6e1bf1b163b3...</td>\n",
       "    </tr>\n",
       "  </tbody>\n",
       "</table>\n",
       "</div>"
      ],
      "text/plain": [
       "   fight_id  event_id          referee     f_1     f_2  winner num_rounds  \\\n",
       "0      7218       664        Herb Dean  2976.0  2884.0  2884.0          5   \n",
       "1      7217       664       Mark Smith  1662.0  2464.0  1662.0          3   \n",
       "2      7216       664     Kerry Hatley   981.0   179.0   981.0          3   \n",
       "3      7215       664  Dan Miragliotta  3831.0  2974.0  3831.0          3   \n",
       "4      7214       664        Herb Dean  1108.0  2320.0  2320.0          3   \n",
       "\n",
       "  title_fight         weight_class gender      result  \\\n",
       "0           F          Lightweight      M      KO/TKO   \n",
       "1           F        Featherweight      M    Decision   \n",
       "2           F  Women's Strawweight      F      KO/TKO   \n",
       "3           F         Welterweight      M  Submission   \n",
       "4           F        Featherweight      M  Submission   \n",
       "\n",
       "                       result_details  finish_round finish_time  \\\n",
       "0            to    \\n      Leg Injury             2        2:03   \n",
       "1                           Unanimous             3        5:00   \n",
       "2          Punches to Head From Mount             2        2:42   \n",
       "3                    Rear Naked Choke             2        4:32   \n",
       "4  Guillotine Choke From Bottom Guard             1        3:12   \n",
       "\n",
       "                                           fight_url  \n",
       "0  http://ufcstats.com/fight-details/23a604f46028...  \n",
       "1  http://ufcstats.com/fight-details/da1b37edb8cc...  \n",
       "2  http://ufcstats.com/fight-details/d8335b728604...  \n",
       "3  http://ufcstats.com/fight-details/bf647be41de3...  \n",
       "4  http://ufcstats.com/fight-details/6e1bf1b163b3...  "
      ]
     },
     "metadata": {},
     "output_type": "display_data"
    }
   ],
   "source": [
    "print(fights.shape)\n",
    "print(fights.info())\n",
    "display(fights.head())"
   ]
  },
  {
   "cell_type": "code",
   "execution_count": 45,
   "metadata": {},
   "outputs": [],
   "source": [
    "# Remove unneeded columns\n",
    "fights = fights[[\n",
    "    'fight_id', 'event_id', # 'referee', \n",
    "    'f_1', 'f_2', 'winner', 'num_rounds',\n",
    "    'title_fight', 'weight_class', 'gender', 'result', # 'result_details',\n",
    "    'finish_round', 'finish_time' #, 'fight_url'\n",
    "]].copy()"
   ]
  },
  {
   "cell_type": "markdown",
   "metadata": {},
   "source": [
    "Examining missing values for the fights table, led me to question if the missing values for the `winner` column, which contains the fighter_id of the winning fighter, was due to cases where there was no winner (e.g. No Contest). I indexed for rows with missing `winner` values and had a look at the `result` column, which revealed that this wasn't the case at all."
   ]
  },
  {
   "cell_type": "code",
   "execution_count": 46,
   "metadata": {},
   "outputs": [
    {
     "data": {
      "text/plain": [
       "fight_id         0\n",
       "event_id         0\n",
       "f_1             19\n",
       "f_2             13\n",
       "winner          15\n",
       "num_rounds       0\n",
       "title_fight      0\n",
       "weight_class    13\n",
       "gender           0\n",
       "result           0\n",
       "finish_round     0\n",
       "finish_time      0\n",
       "dtype: int64"
      ]
     },
     "execution_count": 46,
     "metadata": {},
     "output_type": "execute_result"
    }
   ],
   "source": [
    "fights.isnull().sum()"
   ]
  },
  {
   "cell_type": "code",
   "execution_count": 47,
   "metadata": {},
   "outputs": [
    {
     "data": {
      "text/html": [
       "<div>\n",
       "<style scoped>\n",
       "    .dataframe tbody tr th:only-of-type {\n",
       "        vertical-align: middle;\n",
       "    }\n",
       "\n",
       "    .dataframe tbody tr th {\n",
       "        vertical-align: top;\n",
       "    }\n",
       "\n",
       "    .dataframe thead th {\n",
       "        text-align: right;\n",
       "    }\n",
       "</style>\n",
       "<table border=\"1\" class=\"dataframe\">\n",
       "  <thead>\n",
       "    <tr style=\"text-align: right;\">\n",
       "      <th></th>\n",
       "      <th>fight_id</th>\n",
       "      <th>event_id</th>\n",
       "      <th>f_1</th>\n",
       "      <th>f_2</th>\n",
       "      <th>winner</th>\n",
       "      <th>num_rounds</th>\n",
       "      <th>title_fight</th>\n",
       "      <th>weight_class</th>\n",
       "      <th>gender</th>\n",
       "      <th>result</th>\n",
       "      <th>finish_round</th>\n",
       "      <th>finish_time</th>\n",
       "    </tr>\n",
       "  </thead>\n",
       "  <tbody>\n",
       "    <tr>\n",
       "      <th>9</th>\n",
       "      <td>7209</td>\n",
       "      <td>664</td>\n",
       "      <td>NaN</td>\n",
       "      <td>2808.0</td>\n",
       "      <td>NaN</td>\n",
       "      <td>3</td>\n",
       "      <td>F</td>\n",
       "      <td>Women's Strawweight</td>\n",
       "      <td>F</td>\n",
       "      <td>Decision</td>\n",
       "      <td>3</td>\n",
       "      <td>5:00</td>\n",
       "    </tr>\n",
       "    <tr>\n",
       "      <th>547</th>\n",
       "      <td>6671</td>\n",
       "      <td>619</td>\n",
       "      <td>3966.0</td>\n",
       "      <td>NaN</td>\n",
       "      <td>NaN</td>\n",
       "      <td>3</td>\n",
       "      <td>F</td>\n",
       "      <td>Bantamweight</td>\n",
       "      <td>M</td>\n",
       "      <td>Decision</td>\n",
       "      <td>3</td>\n",
       "      <td>5:00</td>\n",
       "    </tr>\n",
       "    <tr>\n",
       "      <th>571</th>\n",
       "      <td>6647</td>\n",
       "      <td>617</td>\n",
       "      <td>NaN</td>\n",
       "      <td>1241.0</td>\n",
       "      <td>NaN</td>\n",
       "      <td>3</td>\n",
       "      <td>F</td>\n",
       "      <td>Bantamweight</td>\n",
       "      <td>M</td>\n",
       "      <td>Decision</td>\n",
       "      <td>3</td>\n",
       "      <td>5:00</td>\n",
       "    </tr>\n",
       "    <tr>\n",
       "      <th>686</th>\n",
       "      <td>6532</td>\n",
       "      <td>607</td>\n",
       "      <td>NaN</td>\n",
       "      <td>2871.0</td>\n",
       "      <td>NaN</td>\n",
       "      <td>3</td>\n",
       "      <td>F</td>\n",
       "      <td>Lightweight</td>\n",
       "      <td>M</td>\n",
       "      <td>KO/TKO</td>\n",
       "      <td>1</td>\n",
       "      <td>1:14</td>\n",
       "    </tr>\n",
       "    <tr>\n",
       "      <th>759</th>\n",
       "      <td>6459</td>\n",
       "      <td>601</td>\n",
       "      <td>NaN</td>\n",
       "      <td>3095.0</td>\n",
       "      <td>NaN</td>\n",
       "      <td>3</td>\n",
       "      <td>F</td>\n",
       "      <td>Bantamweight</td>\n",
       "      <td>M</td>\n",
       "      <td>KO/TKO</td>\n",
       "      <td>1</td>\n",
       "      <td>2:48</td>\n",
       "    </tr>\n",
       "  </tbody>\n",
       "</table>\n",
       "</div>"
      ],
      "text/plain": [
       "     fight_id  event_id     f_1     f_2  winner num_rounds title_fight  \\\n",
       "9        7209       664     NaN  2808.0     NaN          3           F   \n",
       "547      6671       619  3966.0     NaN     NaN          3           F   \n",
       "571      6647       617     NaN  1241.0     NaN          3           F   \n",
       "686      6532       607     NaN  2871.0     NaN          3           F   \n",
       "759      6459       601     NaN  3095.0     NaN          3           F   \n",
       "\n",
       "            weight_class gender    result  finish_round finish_time  \n",
       "9    Women's Strawweight      F  Decision             3        5:00  \n",
       "547         Bantamweight      M  Decision             3        5:00  \n",
       "571         Bantamweight      M  Decision             3        5:00  \n",
       "686          Lightweight      M    KO/TKO             1        1:14  \n",
       "759         Bantamweight      M    KO/TKO             1        2:48  "
      ]
     },
     "execution_count": 47,
     "metadata": {},
     "output_type": "execute_result"
    }
   ],
   "source": [
    "# Investigate to see if a null winner value is due to a no contest\n",
    "fights[fights['winner'].isnull()].head()"
   ]
  },
  {
   "cell_type": "markdown",
   "metadata": {},
   "source": [
    "Dropping rows with missing values, if a column's missing value count is below a threshold of 5% of column length."
   ]
  },
  {
   "cell_type": "code",
   "execution_count": 48,
   "metadata": {},
   "outputs": [
    {
     "name": "stdout",
     "output_type": "stream",
     "text": [
      "fight_id        0\n",
      "event_id        0\n",
      "f_1             0\n",
      "f_2             0\n",
      "winner          0\n",
      "num_rounds      0\n",
      "title_fight     0\n",
      "weight_class    0\n",
      "gender          0\n",
      "result          0\n",
      "finish_round    0\n",
      "finish_time     0\n",
      "dtype: int64\n"
     ]
    }
   ],
   "source": [
    "# Find the five percent threshold\n",
    "threshold = len(fights) * 0.05\n",
    "\n",
    "# Create a filter\n",
    "cols_to_drop = fights.columns[fights.isna().sum() <= threshold]\n",
    "\n",
    "# Drop missing values for columns below the threshold\n",
    "fights.dropna(subset=cols_to_drop, inplace=True)\n",
    "print(fights.isna().sum()) "
   ]
  },
  {
   "cell_type": "code",
   "execution_count": 49,
   "metadata": {},
   "outputs": [],
   "source": [
    "# Create a column for fight duration in seconds\n",
    "fights[['final_min', 'final_sec']] = fights['finish_time'].str.split(pat=':', expand=True)\n",
    "# convert to minute and seconds to timedeltas and sum\n",
    "fights['final_min'] = fights['final_min'].astype(int)\n",
    "fights['final_sec'] = fights['final_sec'].astype(int)\n",
    "fights['final_round_duration'] = pd.to_timedelta(fights['final_min'], unit='m') \\\n",
    "    + pd.to_timedelta(fights['final_sec'], unit='s')\n",
    "# multiply (number of rounds - 1) by 5 (5 minutes per round) and sum with final round duration for total fight duration\n",
    "fights['fight_duration'] = pd.to_timedelta(\n",
    "    (fights['finish_round'] - 1) * 5,\n",
    "    unit='m'\n",
    ") + fights['final_round_duration']\n",
    "# Create a column for total fight duration in seconds\n",
    "fights['fight_duration_sec'] = fights['fight_duration'].dt.total_seconds() \\\n",
    "    .astype('int')"
   ]
  },
  {
   "cell_type": "markdown",
   "metadata": {},
   "source": [
    "Convert data types"
   ]
  },
  {
   "cell_type": "code",
   "execution_count": 50,
   "metadata": {},
   "outputs": [
    {
     "data": {
      "text/plain": [
       "num_rounds\n",
       "3    6350\n",
       "5     627\n",
       "1     157\n",
       "N      28\n",
       "2      11\n",
       "Name: count, dtype: int64"
      ]
     },
     "execution_count": 50,
     "metadata": {},
     "output_type": "execute_result"
    }
   ],
   "source": [
    "fights['num_rounds'].value_counts()"
   ]
  },
  {
   "cell_type": "code",
   "execution_count": 51,
   "metadata": {},
   "outputs": [],
   "source": [
    "fights = fights.query('num_rounds != \"N\"').copy()\n",
    "# Convert datatypes\n",
    "fights[[\"f_1\", \"f_2\", \"winner\", \"num_rounds\"]] = fights[\n",
    "    [\"f_1\", \"f_2\", \"winner\", \"num_rounds\"]\n",
    "].astype(\"int\")"
   ]
  },
  {
   "cell_type": "markdown",
   "metadata": {},
   "source": [
    "Drop unnecessary columns"
   ]
  },
  {
   "cell_type": "code",
   "execution_count": 52,
   "metadata": {},
   "outputs": [
    {
     "data": {
      "text/plain": [
       "Index(['fight_id', 'event_id', 'f_1', 'f_2', 'winner', 'num_rounds',\n",
       "       'title_fight', 'weight_class', 'gender', 'result', 'finish_round',\n",
       "       'finish_time', 'final_min', 'final_sec', 'final_round_duration',\n",
       "       'fight_duration', 'fight_duration_sec'],\n",
       "      dtype='object')"
      ]
     },
     "execution_count": 52,
     "metadata": {},
     "output_type": "execute_result"
    }
   ],
   "source": [
    "fights.columns"
   ]
  },
  {
   "cell_type": "code",
   "execution_count": 53,
   "metadata": {},
   "outputs": [],
   "source": [
    "fights = fights[\n",
    "    ['fight_id', 'event_id', 'f_1', 'f_2', 'winner', 'num_rounds',\n",
    "       'title_fight', 'weight_class', 'gender', 'result', # 'finish_round',\n",
    "       # 'finish_time', 'final_min', 'final_sec', 'final_round_duration',\n",
    "       # 'fight_duration', \n",
    "       'fight_duration_sec']\n",
    "]"
   ]
  },
  {
   "cell_type": "code",
   "execution_count": 54,
   "metadata": {},
   "outputs": [],
   "source": [
    "fights.loc[\n",
    "    fights['weight_class'].str.contains('Strawweight'),\n",
    "    'weight_class_lbs'\n",
    "] = 115\n",
    "fights.loc[\n",
    "    fights['weight_class'].str.contains('Flyweight'),\n",
    "    'weight_class_lbs'\n",
    "] = 125\n",
    "fights.loc[\n",
    "    fights['weight_class'].str.contains('Bantamweight'),\n",
    "    'weight_class_lbs'\n",
    "] = 135\n",
    "fights.loc[\n",
    "    fights['weight_class'].str.contains('Featherweight'),\n",
    "    'weight_class_lbs'\n",
    "] = 145\n",
    "fights.loc[\n",
    "    fights['weight_class'].str.contains('Lightweight'),\n",
    "    'weight_class_lbs'\n",
    "] = 155\n",
    "fights.loc[\n",
    "    fights['weight_class'].str.contains('Welterweight'),\n",
    "    'weight_class_lbs'\n",
    "] = 170\n",
    "fights.loc[\n",
    "    fights['weight_class'].str.contains('Middleweight'),\n",
    "    'weight_class_lbs'\n",
    "] = 185\n",
    "fights.loc[\n",
    "    fights['weight_class'].str.contains('Light Heavyweight'),\n",
    "    'weight_class_lbs'\n",
    "] = 205\n",
    "fights.loc[\n",
    "    fights['weight_class'].str.contains('Heavyweight'),\n",
    "    'weight_class_lbs'\n",
    "] = 265\n"
   ]
  },
  {
   "cell_type": "code",
   "execution_count": 55,
   "metadata": {},
   "outputs": [
    {
     "name": "stdout",
     "output_type": "stream",
     "text": [
      "<class 'pandas.core.frame.DataFrame'>\n",
      "Index: 7145 entries, 0 to 7186\n",
      "Data columns (total 12 columns):\n",
      " #   Column              Non-Null Count  Dtype  \n",
      "---  ------              --------------  -----  \n",
      " 0   fight_id            7145 non-null   int64  \n",
      " 1   event_id            7145 non-null   int64  \n",
      " 2   f_1                 7145 non-null   int64  \n",
      " 3   f_2                 7145 non-null   int64  \n",
      " 4   winner              7145 non-null   int64  \n",
      " 5   num_rounds          7145 non-null   int64  \n",
      " 6   title_fight         7145 non-null   object \n",
      " 7   weight_class        7145 non-null   object \n",
      " 8   gender              7145 non-null   object \n",
      " 9   result              7145 non-null   object \n",
      " 10  fight_duration_sec  7145 non-null   int64  \n",
      " 11  weight_class_lbs    7010 non-null   float64\n",
      "dtypes: float64(1), int64(7), object(4)\n",
      "memory usage: 725.7+ KB\n",
      "None\n"
     ]
    }
   ],
   "source": [
    "print(fights.info())"
   ]
  },
  {
   "cell_type": "markdown",
   "metadata": {},
   "source": [
    "Export dataframe as feather (to preserve datatypes)"
   ]
  },
  {
   "cell_type": "code",
   "execution_count": 56,
   "metadata": {},
   "outputs": [],
   "source": [
    "fights.to_feather('data/fights_clean.feather')"
   ]
  },
  {
   "cell_type": "markdown",
   "metadata": {},
   "source": [
    "### Table : `fight_stats`\n",
    "- Deal will missing values\n",
    "- Convert data types\n",
    "    - Convert string to time data\n",
    "- Feature engineering"
   ]
  },
  {
   "cell_type": "code",
   "execution_count": 57,
   "metadata": {},
   "outputs": [
    {
     "name": "stdout",
     "output_type": "stream",
     "text": [
      "(14436, 14)\n",
      "<class 'pandas.core.frame.DataFrame'>\n",
      "RangeIndex: 14436 entries, 0 to 14435\n",
      "Data columns (total 14 columns):\n",
      " #   Column              Non-Null Count  Dtype  \n",
      "---  ------              --------------  -----  \n",
      " 0   fight_stat_id       14436 non-null  int64  \n",
      " 1   fight_id            14436 non-null  int64  \n",
      " 2   fighter_id          14404 non-null  float64\n",
      " 3   knockdowns          14394 non-null  float64\n",
      " 4   total_strikes_att   14394 non-null  float64\n",
      " 5   total_strikes_succ  14394 non-null  float64\n",
      " 6   sig_strikes_att     14394 non-null  float64\n",
      " 7   sig_strikes_succ    14394 non-null  float64\n",
      " 8   takedown_att        14394 non-null  float64\n",
      " 9   takedown_succ       14394 non-null  float64\n",
      " 10  submission_att      14394 non-null  float64\n",
      " 11  reversals           14394 non-null  float64\n",
      " 12  ctrl_time           14394 non-null  object \n",
      " 13  fight_url           14436 non-null  object \n",
      "dtypes: float64(10), int64(2), object(2)\n",
      "memory usage: 1.5+ MB\n",
      "None\n"
     ]
    },
    {
     "data": {
      "text/html": [
       "<div>\n",
       "<style scoped>\n",
       "    .dataframe tbody tr th:only-of-type {\n",
       "        vertical-align: middle;\n",
       "    }\n",
       "\n",
       "    .dataframe tbody tr th {\n",
       "        vertical-align: top;\n",
       "    }\n",
       "\n",
       "    .dataframe thead th {\n",
       "        text-align: right;\n",
       "    }\n",
       "</style>\n",
       "<table border=\"1\" class=\"dataframe\">\n",
       "  <thead>\n",
       "    <tr style=\"text-align: right;\">\n",
       "      <th></th>\n",
       "      <th>fight_stat_id</th>\n",
       "      <th>fight_id</th>\n",
       "      <th>fighter_id</th>\n",
       "      <th>knockdowns</th>\n",
       "      <th>total_strikes_att</th>\n",
       "      <th>total_strikes_succ</th>\n",
       "      <th>sig_strikes_att</th>\n",
       "      <th>sig_strikes_succ</th>\n",
       "      <th>takedown_att</th>\n",
       "      <th>takedown_succ</th>\n",
       "      <th>submission_att</th>\n",
       "      <th>reversals</th>\n",
       "      <th>ctrl_time</th>\n",
       "      <th>fight_url</th>\n",
       "    </tr>\n",
       "  </thead>\n",
       "  <tbody>\n",
       "    <tr>\n",
       "      <th>0</th>\n",
       "      <td>14436</td>\n",
       "      <td>7218</td>\n",
       "      <td>2976.0</td>\n",
       "      <td>0.0</td>\n",
       "      <td>34.0</td>\n",
       "      <td>19.0</td>\n",
       "      <td>32.0</td>\n",
       "      <td>18.0</td>\n",
       "      <td>0.0</td>\n",
       "      <td>0.0</td>\n",
       "      <td>0.0</td>\n",
       "      <td>0.0</td>\n",
       "      <td>0:00</td>\n",
       "      <td>http://ufcstats.com/fight-details/23a604f46028...</td>\n",
       "    </tr>\n",
       "    <tr>\n",
       "      <th>1</th>\n",
       "      <td>14435</td>\n",
       "      <td>7218</td>\n",
       "      <td>2884.0</td>\n",
       "      <td>0.0</td>\n",
       "      <td>42.0</td>\n",
       "      <td>17.0</td>\n",
       "      <td>40.0</td>\n",
       "      <td>16.0</td>\n",
       "      <td>6.0</td>\n",
       "      <td>1.0</td>\n",
       "      <td>0.0</td>\n",
       "      <td>0.0</td>\n",
       "      <td>1:28</td>\n",
       "      <td>http://ufcstats.com/fight-details/23a604f46028...</td>\n",
       "    </tr>\n",
       "    <tr>\n",
       "      <th>2</th>\n",
       "      <td>14434</td>\n",
       "      <td>7217</td>\n",
       "      <td>1662.0</td>\n",
       "      <td>0.0</td>\n",
       "      <td>59.0</td>\n",
       "      <td>37.0</td>\n",
       "      <td>40.0</td>\n",
       "      <td>23.0</td>\n",
       "      <td>15.0</td>\n",
       "      <td>5.0</td>\n",
       "      <td>1.0</td>\n",
       "      <td>0.0</td>\n",
       "      <td>7:33</td>\n",
       "      <td>http://ufcstats.com/fight-details/da1b37edb8cc...</td>\n",
       "    </tr>\n",
       "    <tr>\n",
       "      <th>3</th>\n",
       "      <td>14433</td>\n",
       "      <td>7217</td>\n",
       "      <td>2464.0</td>\n",
       "      <td>0.0</td>\n",
       "      <td>72.0</td>\n",
       "      <td>32.0</td>\n",
       "      <td>55.0</td>\n",
       "      <td>18.0</td>\n",
       "      <td>0.0</td>\n",
       "      <td>0.0</td>\n",
       "      <td>0.0</td>\n",
       "      <td>1.0</td>\n",
       "      <td>2:11</td>\n",
       "      <td>http://ufcstats.com/fight-details/da1b37edb8cc...</td>\n",
       "    </tr>\n",
       "    <tr>\n",
       "      <th>4</th>\n",
       "      <td>14432</td>\n",
       "      <td>7216</td>\n",
       "      <td>981.0</td>\n",
       "      <td>0.0</td>\n",
       "      <td>130.0</td>\n",
       "      <td>90.0</td>\n",
       "      <td>102.0</td>\n",
       "      <td>70.0</td>\n",
       "      <td>1.0</td>\n",
       "      <td>1.0</td>\n",
       "      <td>0.0</td>\n",
       "      <td>0.0</td>\n",
       "      <td>2:03</td>\n",
       "      <td>http://ufcstats.com/fight-details/d8335b728604...</td>\n",
       "    </tr>\n",
       "  </tbody>\n",
       "</table>\n",
       "</div>"
      ],
      "text/plain": [
       "   fight_stat_id  fight_id  fighter_id  knockdowns  total_strikes_att  \\\n",
       "0          14436      7218      2976.0         0.0               34.0   \n",
       "1          14435      7218      2884.0         0.0               42.0   \n",
       "2          14434      7217      1662.0         0.0               59.0   \n",
       "3          14433      7217      2464.0         0.0               72.0   \n",
       "4          14432      7216       981.0         0.0              130.0   \n",
       "\n",
       "   total_strikes_succ  sig_strikes_att  sig_strikes_succ  takedown_att  \\\n",
       "0                19.0             32.0              18.0           0.0   \n",
       "1                17.0             40.0              16.0           6.0   \n",
       "2                37.0             40.0              23.0          15.0   \n",
       "3                32.0             55.0              18.0           0.0   \n",
       "4                90.0            102.0              70.0           1.0   \n",
       "\n",
       "   takedown_succ  submission_att  reversals ctrl_time  \\\n",
       "0            0.0             0.0        0.0      0:00   \n",
       "1            1.0             0.0        0.0      1:28   \n",
       "2            5.0             1.0        0.0      7:33   \n",
       "3            0.0             0.0        1.0      2:11   \n",
       "4            1.0             0.0        0.0      2:03   \n",
       "\n",
       "                                           fight_url  \n",
       "0  http://ufcstats.com/fight-details/23a604f46028...  \n",
       "1  http://ufcstats.com/fight-details/23a604f46028...  \n",
       "2  http://ufcstats.com/fight-details/da1b37edb8cc...  \n",
       "3  http://ufcstats.com/fight-details/da1b37edb8cc...  \n",
       "4  http://ufcstats.com/fight-details/d8335b728604...  "
      ]
     },
     "metadata": {},
     "output_type": "display_data"
    }
   ],
   "source": [
    "print(fight_stats.shape)\n",
    "print(fight_stats.info())\n",
    "display(fight_stats.head())"
   ]
  },
  {
   "cell_type": "markdown",
   "metadata": {},
   "source": [
    "`ctrl_time` missing values are set to string '--'. Replace these values with null."
   ]
  },
  {
   "cell_type": "code",
   "execution_count": 58,
   "metadata": {},
   "outputs": [],
   "source": [
    "fight_stats['ctrl_time'].mask(fight_stats['ctrl_time']=='--', inplace=True)"
   ]
  },
  {
   "cell_type": "markdown",
   "metadata": {},
   "source": [
    "Deal with missing values"
   ]
  },
  {
   "cell_type": "code",
   "execution_count": 59,
   "metadata": {},
   "outputs": [
    {
     "data": {
      "text/plain": [
       "fight_stat_id           0\n",
       "fight_id                0\n",
       "fighter_id             32\n",
       "knockdowns             42\n",
       "total_strikes_att      42\n",
       "total_strikes_succ     42\n",
       "sig_strikes_att        42\n",
       "sig_strikes_succ       42\n",
       "takedown_att           42\n",
       "takedown_succ          42\n",
       "submission_att         42\n",
       "reversals              42\n",
       "ctrl_time             398\n",
       "fight_url               0\n",
       "dtype: int64"
      ]
     },
     "execution_count": 59,
     "metadata": {},
     "output_type": "execute_result"
    }
   ],
   "source": [
    "fight_stats.isna().sum()"
   ]
  },
  {
   "cell_type": "code",
   "execution_count": 60,
   "metadata": {},
   "outputs": [
    {
     "name": "stdout",
     "output_type": "stream",
     "text": [
      "threshold: 721.8000000000001\n",
      "fight_stat_id         0\n",
      "fight_id              0\n",
      "fighter_id            0\n",
      "knockdowns            0\n",
      "total_strikes_att     0\n",
      "total_strikes_succ    0\n",
      "sig_strikes_att       0\n",
      "sig_strikes_succ      0\n",
      "takedown_att          0\n",
      "takedown_succ         0\n",
      "submission_att        0\n",
      "reversals             0\n",
      "ctrl_time             0\n",
      "fight_url             0\n",
      "dtype: int64\n"
     ]
    }
   ],
   "source": [
    "# Find the five percent threshold\n",
    "threshold = len(fight_stats) * 0.05\n",
    "print(f'threshold: {threshold}')\n",
    "# Create a filter\n",
    "cols_to_drop = fight_stats.columns[fight_stats.isna().sum() <= threshold]\n",
    "\n",
    "# Drop missing values for columns below the threshold\n",
    "fight_stats.dropna(subset=cols_to_drop, inplace=True)\n",
    "print(fight_stats.isna().sum()) "
   ]
  },
  {
   "cell_type": "markdown",
   "metadata": {},
   "source": [
    "Convert data types"
   ]
  },
  {
   "cell_type": "code",
   "execution_count": 61,
   "metadata": {},
   "outputs": [],
   "source": [
    "# Convert minute and second columns to timedeltas and sum\n",
    "fight_stats[['ctrl_time_min', 'ctrl_time_sec']] = fight_stats['ctrl_time'].str.split(':', expand=True)\n",
    "fight_stats[['ctrl_time_min', 'ctrl_time_sec']] = fight_stats[['ctrl_time_min', 'ctrl_time_sec']].astype('int')\n",
    "\n",
    "fight_stats['ctrl_time_sec'] = (\n",
    "    (fight_stats['ctrl_time_min'] * 60) + fight_stats['ctrl_time_sec']\n",
    ")\n",
    "\n",
    "fight_stats.drop(columns=['ctrl_time_min', 'ctrl_time', 'fight_url'], inplace=True)"
   ]
  },
  {
   "cell_type": "code",
   "execution_count": 62,
   "metadata": {},
   "outputs": [
    {
     "name": "stdout",
     "output_type": "stream",
     "text": [
      "<class 'pandas.core.frame.DataFrame'>\n",
      "Index: 14006 entries, 0 to 14039\n",
      "Data columns (total 13 columns):\n",
      " #   Column              Non-Null Count  Dtype\n",
      "---  ------              --------------  -----\n",
      " 0   fight_stat_id       14006 non-null  int64\n",
      " 1   fight_id            14006 non-null  int64\n",
      " 2   fighter_id          14006 non-null  int64\n",
      " 3   knockdowns          14006 non-null  int64\n",
      " 4   total_strikes_att   14006 non-null  int64\n",
      " 5   total_strikes_succ  14006 non-null  int64\n",
      " 6   sig_strikes_att     14006 non-null  int64\n",
      " 7   sig_strikes_succ    14006 non-null  int64\n",
      " 8   takedown_att        14006 non-null  int64\n",
      " 9   takedown_succ       14006 non-null  int64\n",
      " 10  submission_att      14006 non-null  int64\n",
      " 11  reversals           14006 non-null  int64\n",
      " 12  ctrl_time_sec       14006 non-null  int64\n",
      "dtypes: int64(13)\n",
      "memory usage: 1.5 MB\n"
     ]
    }
   ],
   "source": [
    "fight_stats[[\n",
    "    'fighter_id', 'knockdowns',\n",
    "    'total_strikes_att', 'total_strikes_succ', 'sig_strikes_att',\n",
    "    'sig_strikes_succ', 'takedown_att', 'takedown_succ', 'submission_att',\n",
    "    'reversals'\n",
    "]] = fight_stats[[\n",
    "    'fighter_id', 'knockdowns',\n",
    "    'total_strikes_att', 'total_strikes_succ', 'sig_strikes_att',\n",
    "    'sig_strikes_succ', 'takedown_att', 'takedown_succ', 'submission_att',\n",
    "    'reversals'\n",
    "]].astype('int')\n",
    "\n",
    "fight_stats.info()"
   ]
  },
  {
   "cell_type": "markdown",
   "metadata": {},
   "source": [
    "Feature engineering"
   ]
  },
  {
   "cell_type": "code",
   "execution_count": 63,
   "metadata": {},
   "outputs": [],
   "source": [
    "# Total strike accuracy\n",
    "fight_stats['total_strike_acc_pct'] = (\n",
    "    fight_stats['total_strikes_succ'] / fight_stats['total_strikes_att']\n",
    ") * 100\n",
    "# Significant strike accuracy\n",
    "fight_stats['sig_strike_acc_pct'] = (\n",
    "    fight_stats['sig_strikes_succ'] / fight_stats['sig_strikes_att']\n",
    ") * 100\n",
    "# Takedown accuracy\n",
    "fight_stats['takedown_acc_pct'] = (\n",
    "    fight_stats['takedown_succ'] / fight_stats['takedown_att']\n",
    ") * 100"
   ]
  },
  {
   "cell_type": "markdown",
   "metadata": {},
   "source": [
    "Export dataframe as feather (to preserve datatypes)"
   ]
  },
  {
   "cell_type": "code",
   "execution_count": 64,
   "metadata": {},
   "outputs": [],
   "source": [
    "fight_stats.to_feather('data/fight_stats_clean.feather')"
   ]
  },
  {
   "cell_type": "markdown",
   "metadata": {},
   "source": [
    "### Table `fighter`\n",
    "- Drop unnecessary columns\n",
    "- Deal with missing values\n",
    "- Convert data types"
   ]
  },
  {
   "cell_type": "code",
   "execution_count": 65,
   "metadata": {},
   "outputs": [
    {
     "name": "stdout",
     "output_type": "stream",
     "text": [
      "(4107, 14)\n",
      "<class 'pandas.core.frame.DataFrame'>\n",
      "RangeIndex: 4107 entries, 0 to 4106\n",
      "Data columns (total 14 columns):\n",
      " #   Column              Non-Null Count  Dtype  \n",
      "---  ------              --------------  -----  \n",
      " 0   fighter_id          4107 non-null   int64  \n",
      " 1   fighter_f_name      4107 non-null   object \n",
      " 2   fighter_l_name      4092 non-null   object \n",
      " 3   fighter_nickname    2250 non-null   object \n",
      " 4   fighter_height_cm   3797 non-null   float64\n",
      " 5   fighter_weight_lbs  4020 non-null   float64\n",
      " 6   fighter_reach_cm    2166 non-null   float64\n",
      " 7   fighter_stance      3273 non-null   object \n",
      " 8   fighter_dob         3349 non-null   object \n",
      " 9   fighter_w           4107 non-null   int64  \n",
      " 10  fighter_l           4107 non-null   int64  \n",
      " 11  fighter_d           4107 non-null   int64  \n",
      " 12  fighter_nc_dq       482 non-null    float64\n",
      " 13  fighter_url         4107 non-null   object \n",
      "dtypes: float64(4), int64(4), object(6)\n",
      "memory usage: 449.3+ KB\n",
      "None\n"
     ]
    },
    {
     "data": {
      "text/html": [
       "<div>\n",
       "<style scoped>\n",
       "    .dataframe tbody tr th:only-of-type {\n",
       "        vertical-align: middle;\n",
       "    }\n",
       "\n",
       "    .dataframe tbody tr th {\n",
       "        vertical-align: top;\n",
       "    }\n",
       "\n",
       "    .dataframe thead th {\n",
       "        text-align: right;\n",
       "    }\n",
       "</style>\n",
       "<table border=\"1\" class=\"dataframe\">\n",
       "  <thead>\n",
       "    <tr style=\"text-align: right;\">\n",
       "      <th></th>\n",
       "      <th>fighter_id</th>\n",
       "      <th>fighter_f_name</th>\n",
       "      <th>fighter_l_name</th>\n",
       "      <th>fighter_nickname</th>\n",
       "      <th>fighter_height_cm</th>\n",
       "      <th>fighter_weight_lbs</th>\n",
       "      <th>fighter_reach_cm</th>\n",
       "      <th>fighter_stance</th>\n",
       "      <th>fighter_dob</th>\n",
       "      <th>fighter_w</th>\n",
       "      <th>fighter_l</th>\n",
       "      <th>fighter_d</th>\n",
       "      <th>fighter_nc_dq</th>\n",
       "      <th>fighter_url</th>\n",
       "    </tr>\n",
       "  </thead>\n",
       "  <tbody>\n",
       "    <tr>\n",
       "      <th>0</th>\n",
       "      <td>4107</td>\n",
       "      <td>Tom</td>\n",
       "      <td>Aaron</td>\n",
       "      <td>NaN</td>\n",
       "      <td>NaN</td>\n",
       "      <td>155.0</td>\n",
       "      <td>NaN</td>\n",
       "      <td>NaN</td>\n",
       "      <td>1978-07-13</td>\n",
       "      <td>5</td>\n",
       "      <td>3</td>\n",
       "      <td>0</td>\n",
       "      <td>NaN</td>\n",
       "      <td>http://ufcstats.com/fighter-details/93fe7332d1...</td>\n",
       "    </tr>\n",
       "    <tr>\n",
       "      <th>1</th>\n",
       "      <td>4106</td>\n",
       "      <td>Danny</td>\n",
       "      <td>Abbadi</td>\n",
       "      <td>The Assassin</td>\n",
       "      <td>180.34</td>\n",
       "      <td>155.0</td>\n",
       "      <td>NaN</td>\n",
       "      <td>Orthodox</td>\n",
       "      <td>1983-07-03</td>\n",
       "      <td>4</td>\n",
       "      <td>6</td>\n",
       "      <td>0</td>\n",
       "      <td>NaN</td>\n",
       "      <td>http://ufcstats.com/fighter-details/15df64c02b...</td>\n",
       "    </tr>\n",
       "    <tr>\n",
       "      <th>2</th>\n",
       "      <td>4105</td>\n",
       "      <td>Nariman</td>\n",
       "      <td>Abbasov</td>\n",
       "      <td>Bayraktar</td>\n",
       "      <td>172.72</td>\n",
       "      <td>155.0</td>\n",
       "      <td>167.64</td>\n",
       "      <td>Orthodox</td>\n",
       "      <td>1994-02-01</td>\n",
       "      <td>28</td>\n",
       "      <td>4</td>\n",
       "      <td>0</td>\n",
       "      <td>NaN</td>\n",
       "      <td>http://ufcstats.com/fighter-details/59a9d6dac6...</td>\n",
       "    </tr>\n",
       "    <tr>\n",
       "      <th>3</th>\n",
       "      <td>4104</td>\n",
       "      <td>David</td>\n",
       "      <td>Abbott</td>\n",
       "      <td>Tank</td>\n",
       "      <td>182.88</td>\n",
       "      <td>265.0</td>\n",
       "      <td>NaN</td>\n",
       "      <td>Switch</td>\n",
       "      <td>NaN</td>\n",
       "      <td>10</td>\n",
       "      <td>15</td>\n",
       "      <td>0</td>\n",
       "      <td>NaN</td>\n",
       "      <td>http://ufcstats.com/fighter-details/b361180739...</td>\n",
       "    </tr>\n",
       "    <tr>\n",
       "      <th>4</th>\n",
       "      <td>4103</td>\n",
       "      <td>Hamdy</td>\n",
       "      <td>Abdelwahab</td>\n",
       "      <td>The Hammer</td>\n",
       "      <td>187.96</td>\n",
       "      <td>264.0</td>\n",
       "      <td>182.88</td>\n",
       "      <td>Southpaw</td>\n",
       "      <td>1993-01-22</td>\n",
       "      <td>5</td>\n",
       "      <td>0</td>\n",
       "      <td>0</td>\n",
       "      <td>1.0</td>\n",
       "      <td>http://ufcstats.com/fighter-details/3329d692ae...</td>\n",
       "    </tr>\n",
       "  </tbody>\n",
       "</table>\n",
       "</div>"
      ],
      "text/plain": [
       "   fighter_id fighter_f_name fighter_l_name fighter_nickname  \\\n",
       "0        4107            Tom          Aaron              NaN   \n",
       "1        4106          Danny         Abbadi     The Assassin   \n",
       "2        4105        Nariman        Abbasov        Bayraktar   \n",
       "3        4104          David         Abbott             Tank   \n",
       "4        4103          Hamdy     Abdelwahab       The Hammer   \n",
       "\n",
       "   fighter_height_cm  fighter_weight_lbs  fighter_reach_cm fighter_stance  \\\n",
       "0                NaN               155.0               NaN            NaN   \n",
       "1             180.34               155.0               NaN       Orthodox   \n",
       "2             172.72               155.0            167.64       Orthodox   \n",
       "3             182.88               265.0               NaN         Switch   \n",
       "4             187.96               264.0            182.88       Southpaw   \n",
       "\n",
       "  fighter_dob  fighter_w  fighter_l  fighter_d  fighter_nc_dq  \\\n",
       "0  1978-07-13          5          3          0            NaN   \n",
       "1  1983-07-03          4          6          0            NaN   \n",
       "2  1994-02-01         28          4          0            NaN   \n",
       "3         NaN         10         15          0            NaN   \n",
       "4  1993-01-22          5          0          0            1.0   \n",
       "\n",
       "                                         fighter_url  \n",
       "0  http://ufcstats.com/fighter-details/93fe7332d1...  \n",
       "1  http://ufcstats.com/fighter-details/15df64c02b...  \n",
       "2  http://ufcstats.com/fighter-details/59a9d6dac6...  \n",
       "3  http://ufcstats.com/fighter-details/b361180739...  \n",
       "4  http://ufcstats.com/fighter-details/3329d692ae...  "
      ]
     },
     "metadata": {},
     "output_type": "display_data"
    }
   ],
   "source": [
    "print(fighters.shape)\n",
    "print(fighters.info())\n",
    "display(fighters.head())"
   ]
  },
  {
   "cell_type": "markdown",
   "metadata": {},
   "source": [
    "Drop unecessary columns"
   ]
  },
  {
   "cell_type": "code",
   "execution_count": 66,
   "metadata": {},
   "outputs": [],
   "source": [
    "fighters = fighters[[\n",
    "    'fighter_id', # 'fighter_f_name', 'fighter_l_name', 'fighter_nickname',\n",
    "       'fighter_height_cm', # 'fighter_weight_lbs', \n",
    "       'fighter_reach_cm',\n",
    "       # 'fighter_stance', \n",
    "       'fighter_dob', # 'fighter_w', 'fighter_l', 'fighter_d',\n",
    "       # 'fighter_nc_dq', 'fighter_url'\n",
    "]].copy()"
   ]
  },
  {
   "cell_type": "markdown",
   "metadata": {},
   "source": [
    "Missing values\n"
   ]
  },
  {
   "cell_type": "code",
   "execution_count": 67,
   "metadata": {},
   "outputs": [
    {
     "data": {
      "text/plain": [
       "fighter_id              0\n",
       "fighter_height_cm     310\n",
       "fighter_reach_cm     1941\n",
       "fighter_dob           758\n",
       "dtype: int64"
      ]
     },
     "execution_count": 67,
     "metadata": {},
     "output_type": "execute_result"
    }
   ],
   "source": [
    "fighters.isna().sum()"
   ]
  },
  {
   "cell_type": "markdown",
   "metadata": {},
   "source": [
    "There are no columns with missing values that meet the threshold. Dropping these would lead to losing too much information so will decide to keep."
   ]
  },
  {
   "cell_type": "code",
   "execution_count": 68,
   "metadata": {},
   "outputs": [
    {
     "name": "stdout",
     "output_type": "stream",
     "text": [
      "threshold: 205.35000000000002\n",
      "threshold: Index(['fighter_id'], dtype='object')\n"
     ]
    }
   ],
   "source": [
    "# Find the five percent threshold\n",
    "threshold = len(fighters) * 0.05\n",
    "print(f'threshold: {threshold}')\n",
    "# Create a filter\n",
    "cols_to_drop = fighters.columns[fighters.isna().sum() <= threshold]\n",
    "print(f'threshold: {cols_to_drop}')"
   ]
  },
  {
   "cell_type": "markdown",
   "metadata": {},
   "source": [
    "Convert data types"
   ]
  },
  {
   "cell_type": "code",
   "execution_count": 69,
   "metadata": {},
   "outputs": [],
   "source": [
    "fighters['fighter_dob'] = pd.to_datetime(fighters['fighter_dob'])"
   ]
  },
  {
   "cell_type": "markdown",
   "metadata": {},
   "source": [
    "Export dataframe as feather (to preserve datatypes)"
   ]
  },
  {
   "cell_type": "code",
   "execution_count": 70,
   "metadata": {},
   "outputs": [],
   "source": [
    "fighters.to_feather('data/fighters_clean.feather')"
   ]
  },
  {
   "cell_type": "markdown",
   "metadata": {},
   "source": [
    "### Joining/merging tables\n",
    "- Merge\n",
    "- Append tables (concat)\n",
    "- Feature engineering"
   ]
  },
  {
   "cell_type": "code",
   "execution_count": 71,
   "metadata": {},
   "outputs": [],
   "source": [
    "df0 = fight_stats.merge(fighters, how=\"left\", on=\"fighter_id\")\n",
    "\n",
    "df1 = (\n",
    "    df0.merge(\n",
    "        fights,\n",
    "        how=\"left\",\n",
    "        left_on=[\"fight_id\", \"fighter_id\"],\n",
    "        right_on=[\"fight_id\", \"f_1\"],\n",
    "        indicator=True,\n",
    "    )\n",
    "    .query('_merge == \"both\"')\n",
    "    .drop(columns=[\"_merge\"])\n",
    ")\n",
    "\n",
    "df2 = (\n",
    "    df0.merge(\n",
    "        fights,\n",
    "        how=\"left\",\n",
    "        left_on=[\"fight_id\", \"fighter_id\"],\n",
    "        right_on=[\"fight_id\", \"f_2\"],\n",
    "        indicator=True,\n",
    "    )\n",
    "    .query('_merge == \"both\"')\n",
    "    .drop(columns=[\"_merge\"])\n",
    ")\n",
    "\n",
    "# Merge to get opposition fighter details\n",
    "df1 = df1.merge(\n",
    "    df2[[\"fight_id\", \"fighter_height_cm\", \"fighter_reach_cm\", \"fighter_dob\"]],\n",
    "    how=\"left\",\n",
    "    on=\"fight_id\",\n",
    "    suffixes=(\"\", \"_opp\"),\n",
    ")\n",
    "df2 = df2.merge(\n",
    "    df1[[\"fight_id\", \"fighter_height_cm\", \"fighter_reach_cm\", \"fighter_dob\"]],\n",
    "    how=\"left\",\n",
    "    on=\"fight_id\",\n",
    "    suffixes=(\"\", \"_opp\"),\n",
    ")\n",
    "\n",
    "ufc_df = pd.concat([df1, df2])\n",
    "ufc_df = ufc_df.reset_index(drop=True)\n",
    "ufc_df[\"fight_date\"] = ufc_df.merge(\n",
    "    events, how=\"left\", on=\"event_id\"\n",
    ")[\"event_date\"]"
   ]
  },
  {
   "cell_type": "markdown",
   "metadata": {},
   "source": [
    "Feature engineering"
   ]
  },
  {
   "cell_type": "code",
   "execution_count": 72,
   "metadata": {},
   "outputs": [],
   "source": [
    "ufc_df['reach_adv_cm'] = ufc_df['fighter_reach_cm'] - ufc_df['fighter_reach_cm_opp']\n",
    "ufc_df['height_adv_cm'] = ufc_df['fighter_height_cm'] - ufc_df['fighter_height_cm_opp']\n",
    "\n",
    "ufc_df.loc[ufc_df['fighter_id'] == ufc_df['winner'], 'win'] = 1\n",
    "ufc_df.loc[ufc_df['fighter_id'] != ufc_df['winner'], 'win'] = 0\n",
    "\n",
    "ufc_df['fighter_age'] = (\n",
    "    (\n",
    "    ufc_df['fight_date'] - ufc_df['fighter_dob']\n",
    ") / np.timedelta64(365, \"D\")\n",
    ").round()\n",
    "\n",
    "ufc_df['fighter_age_opp'] = (\n",
    "    (\n",
    "    ufc_df['fight_date'] - ufc_df['fighter_dob_opp']\n",
    ") / np.timedelta64(365, \"D\")\n",
    ").round()\n",
    "\n",
    "ufc_df['age_diff'] = ufc_df['fighter_age'] - ufc_df['fighter_age_opp']\n",
    "\n",
    "# Weight categories\n",
    "\n",
    "ufc_df.loc[\n",
    "    ufc_df['weight_class'].str.contains('Strawweight'),\n",
    "    'weight_class_lbs'\n",
    "] = 115\n",
    "ufc_df.loc[\n",
    "    ufc_df['weight_class'].str.contains('Flyweight'),\n",
    "    'weight_class_lbs'\n",
    "] = 125\n",
    "ufc_df.loc[\n",
    "    ufc_df['weight_class'].str.contains('Bantamweight'),\n",
    "    'weight_class_lbs'\n",
    "] = 135\n",
    "ufc_df.loc[\n",
    "    ufc_df['weight_class'].str.contains('Featherweight'),\n",
    "    'weight_class_lbs'\n",
    "] = 145\n",
    "ufc_df.loc[\n",
    "    ufc_df['weight_class'].str.contains('Lightweight'),\n",
    "    'weight_class_lbs'\n",
    "] = 155\n",
    "ufc_df.loc[\n",
    "    ufc_df['weight_class'].str.contains('Welterweight'),\n",
    "    'weight_class_lbs'\n",
    "] = 170\n",
    "ufc_df.loc[\n",
    "    ufc_df['weight_class'].str.contains('Middleweight'),\n",
    "    'weight_class_lbs'\n",
    "] = 185\n",
    "ufc_df.loc[\n",
    "    ufc_df['weight_class'].str.contains('Light Heavyweight'),\n",
    "    'weight_class_lbs'\n",
    "] = 205\n",
    "ufc_df.loc[\n",
    "    ufc_df['weight_class'].str.contains('Heavyweight'),\n",
    "    'weight_class_lbs'\n",
    "] = 265\n",
    "\n",
    "# Create weight category column\n",
    "weight_cat = ['Light', 'Medium', 'Heavy']\n",
    "\n",
    "weight_light = \"Straw|Fly|Bantam|Feather\"\n",
    "weight_medium = \"Lightweight|Welter|Middle\"\n",
    "weight_heavy = \"Heavy\"\n",
    "\n",
    "conditions = [\n",
    "    ufc_df['weight_class'].str.contains(weight_light),\n",
    "    ufc_df['weight_class'].str.contains(weight_medium),\n",
    "    ufc_df['weight_class'].str.contains(weight_heavy)\n",
    "]\n",
    "\n",
    "ufc_df['weight_category'] = np.select(conditions, weight_cat, default=\"Other\")"
   ]
  },
  {
   "cell_type": "markdown",
   "metadata": {},
   "source": [
    "Drop unnecessary columns"
   ]
  },
  {
   "cell_type": "code",
   "execution_count": 73,
   "metadata": {},
   "outputs": [
    {
     "data": {
      "text/plain": [
       "Index(['fight_stat_id', 'fight_id', 'fighter_id', 'knockdowns',\n",
       "       'total_strikes_att', 'total_strikes_succ', 'sig_strikes_att',\n",
       "       'sig_strikes_succ', 'takedown_att', 'takedown_succ', 'submission_att',\n",
       "       'reversals', 'ctrl_time_sec', 'total_strike_acc_pct',\n",
       "       'sig_strike_acc_pct', 'takedown_acc_pct', 'fighter_height_cm',\n",
       "       'fighter_reach_cm', 'fighter_dob', 'event_id', 'f_1', 'f_2', 'winner',\n",
       "       'num_rounds', 'title_fight', 'weight_class', 'gender', 'result',\n",
       "       'fight_duration_sec', 'weight_class_lbs', 'fighter_height_cm_opp',\n",
       "       'fighter_reach_cm_opp', 'fighter_dob_opp', 'fight_date', 'reach_adv_cm',\n",
       "       'height_adv_cm', 'win', 'fighter_age', 'fighter_age_opp', 'age_diff',\n",
       "       'weight_category'],\n",
       "      dtype='object')"
      ]
     },
     "execution_count": 73,
     "metadata": {},
     "output_type": "execute_result"
    }
   ],
   "source": [
    "ufc_df.columns"
   ]
  },
  {
   "cell_type": "code",
   "execution_count": 74,
   "metadata": {},
   "outputs": [],
   "source": [
    "ufc_df = ufc_df[\n",
    "    [# 'fight_stat_id', \n",
    "     'fight_id', 'fighter_id', 'knockdowns',\n",
    "       'total_strikes_att', 'total_strikes_succ', 'sig_strikes_att',\n",
    "       'sig_strikes_succ', 'takedown_att', 'takedown_succ', 'submission_att',\n",
    "       'reversals', 'ctrl_time_sec', 'total_strike_acc_pct',\n",
    "       'sig_strike_acc_pct', 'takedown_acc_pct', 'fighter_height_cm',\n",
    "       'fighter_reach_cm', 'fighter_dob', # 'event_id', 'f_1', 'f_2', 'winner',\n",
    "       'num_rounds', 'title_fight', 'weight_class', 'weight_class_lbs', 'weight_category', 'gender', 'result',\n",
    "       'fight_duration_sec', 'fighter_height_cm_opp', 'fighter_reach_cm_opp',\n",
    "       'fighter_dob_opp', 'fight_date', 'reach_adv_cm', 'height_adv_cm', 'win',\n",
    "       'fighter_age', 'fighter_age_opp', 'age_diff']\n",
    "].copy()"
   ]
  },
  {
   "cell_type": "markdown",
   "metadata": {},
   "source": [
    "Export dataframe as feather (to preserve datatypes)"
   ]
  },
  {
   "cell_type": "code",
   "execution_count": 75,
   "metadata": {},
   "outputs": [],
   "source": [
    "ufc_df.to_feather('data/ufc_df.feather')"
   ]
  }
 ],
 "metadata": {
  "kernelspec": {
   "display_name": ".venv",
   "language": "python",
   "name": "python3"
  },
  "language_info": {
   "codemirror_mode": {
    "name": "ipython",
    "version": 3
   },
   "file_extension": ".py",
   "mimetype": "text/x-python",
   "name": "python",
   "nbconvert_exporter": "python",
   "pygments_lexer": "ipython3",
   "version": "3.11.5"
  }
 },
 "nbformat": 4,
 "nbformat_minor": 2
}
